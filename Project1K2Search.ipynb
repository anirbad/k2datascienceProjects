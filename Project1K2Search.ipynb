{
 "cells": [
  {
   "cell_type": "markdown",
   "metadata": {},
   "source": [
    "## This is Project 1 for K2 Data Science. \n",
    "## Name - Anirban Deb\n",
    "## Project Description - Generate Fibonocci series with and without recursive functions"
   ]
  },
  {
   "cell_type": "code",
   "execution_count": 2,
   "metadata": {
    "collapsed": true
   },
   "outputs": [],
   "source": [
    "import time"
   ]
  },
  {
   "cell_type": "code",
   "execution_count": 121,
   "metadata": {
    "collapsed": true
   },
   "outputs": [],
   "source": [
    "# define the function\n",
    "def iterative_fibonacci(n):\n",
    "#initialize\n",
    "  a=0\n",
    "  b=1\n",
    "  c=a+b\n",
    "#create a list\n",
    "  d=[a,b,c]\n",
    "  if n>2:\n",
    "    for i in range (2,n-1):\n",
    "           d.append(d[i-1]+d[i])\n",
    "           n +=1\n",
    "  elif n==2:\n",
    "    d=[0,1,1]\n",
    "  return d"
   ]
  },
  {
   "cell_type": "code",
   "execution_count": 169,
   "metadata": {},
   "outputs": [
    {
     "name": "stdout",
     "output_type": "stream",
     "text": [
      "Enter which element you want in the Fobonacci series7\n",
      "8\n",
      "[0, 1, 1, 2, 3, 5, 8]\n"
     ]
    }
   ],
   "source": [
    "#call the function\n",
    "#get user input\n",
    "n= int(input(\"Enter which element you want in the Fobonacci series\"))\n",
    "k=iterative_fibonacci(n)\n",
    "print (k[n-1])\n",
    "print (k)"
   ]
  },
  {
   "cell_type": "code",
   "execution_count": 160,
   "metadata": {},
   "outputs": [],
   "source": [
    "# recursive function\n",
    "def recursive_fibonacci(n):\n",
    "    if n==0:\n",
    "        return 0\n",
    "    elif n==1:\n",
    "        return 1\n",
    "    else: \n",
    "        return recursive_fibonacci(n-1)+recursive_fibonacci(n-2)"
   ]
  },
  {
   "cell_type": "code",
   "execution_count": 170,
   "metadata": {},
   "outputs": [
    {
     "name": "stdout",
     "output_type": "stream",
     "text": [
      "Enter which element you want in the Fobonacci series20\n",
      "4181\n"
     ]
    }
   ],
   "source": [
    "#call the function\n",
    "#get user input\n",
    "n= int(input(\"Enter which element you want in the Fobonacci series\"))\n",
    "p=recursive_fibonacci(n-1)\n",
    "print (p)"
   ]
  },
  {
   "cell_type": "code",
   "execution_count": null,
   "metadata": {
    "collapsed": true
   },
   "outputs": [],
   "source": []
  }
 ],
 "metadata": {
  "kernelspec": {
   "display_name": "Python 3",
   "language": "python",
   "name": "python3"
  },
  "language_info": {
   "codemirror_mode": {
    "name": "ipython",
    "version": 3
   },
   "file_extension": ".py",
   "mimetype": "text/x-python",
   "name": "python",
   "nbconvert_exporter": "python",
   "pygments_lexer": "ipython3",
   "version": "3.6.3"
  }
 },
 "nbformat": 4,
 "nbformat_minor": 2
}
